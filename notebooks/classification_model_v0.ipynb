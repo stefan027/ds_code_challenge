{
 "cells": [
  {
   "cell_type": "markdown",
   "id": "e508351d",
   "metadata": {},
   "source": [
    "# 5. Computer Vision classification challenge\n",
    "\n",
    "## Exploratory analysis and baseline model training and evaluation\n",
    "\n",
    "Use a sample of images from the swimming-pool dataset to develop a model that classifies whether an image contains a swimming pool or not. Use the provided labels to validate your model."
   ]
  },
  {
   "cell_type": "markdown",
   "id": "955d321c",
   "metadata": {},
   "source": [
    "## Setup"
   ]
  },
  {
   "cell_type": "markdown",
   "id": "1e03cce6",
   "metadata": {},
   "source": [
    "The cell below is specifically for running the notebook in a Kaggle environment. If running the databook in Kaggle, make sure the `stefan87/cct-ds-code-challenge` dataset is attached to the Kaggle notebook. For all other environments, it is assumed that all dependencies have already been installed."
   ]
  },
  {
   "cell_type": "code",
   "execution_count": null,
   "id": "5bb67e4c",
   "metadata": {},
   "outputs": [],
   "source": [
    "import os\n",
    "\n",
    "is_kaggle = True if os.environ.get('KAGGLE_URL_BASE', '') else False\n",
    "\n",
    "if is_kaggle:\n",
    "    if not os.path.exists(\"/kaggle/working/ds_code_challenge\"):\n",
    "        print(\"This notebook is running on Kaggle.\")\n",
    "        print(\"Installing additional packages...\")\n",
    "        os.system(\"curl -LsSf https://astral.sh/uv/install.sh | sh\")\n",
    "        os.system(\"git clone https://github.com/stefan027/ds_code_challenge.git\")\n",
    "        os.system(\"cd ds_code_challenge && uv pip install -r requirements.txt\")\n",
    "    os.chdir(\"/kaggle/working/ds_code_challenge\")"
   ]
  },
  {
   "cell_type": "code",
   "execution_count": null,
   "id": "06c9e6cf",
   "metadata": {},
   "outputs": [],
   "source": [
    "import sys\n",
    "\n",
    "# Add the repo root to the Python path\n",
    "sys.path.append(\"../\")\n",
    "\n",
    "import os\n",
    "from pathlib import Path\n",
    "from importlib.metadata import version\n",
    "from typing import Union\n",
    "import random\n",
    "\n",
    "from fastai.vision.all import (\n",
    "    set_seed, DataLoader, DataLoaders, Learner,\n",
    "    BCEWithLogitsLossFlat, Adam,\n",
    ")\n",
    "from PIL import Image\n",
    "import pandas as pd\n",
    "from IPython.display import display\n",
    "import torch\n",
    "\n",
    "from src.data import TiffImageDataset\n",
    "from src.modeling import (\n",
    "    create_timm_model, freeze_except_head, unfreeze_all\n",
    ")\n",
    "from src.metrics import (\n",
    "    balanced_accuracy, ap_score, precision, recall, roc_auc\n",
    ")"
   ]
  },
  {
   "cell_type": "code",
   "execution_count": null,
   "id": "8fe76c45",
   "metadata": {},
   "outputs": [],
   "source": [
    "pckgs = [\"torch\", \"torchvision\", \"fastai\", \"timm\"]\n",
    "for pckg in pckgs:\n",
    "    print(f\"{pckg}=={version(pckg)}\")"
   ]
  },
  {
   "cell_type": "code",
   "execution_count": null,
   "id": "879ad6a1",
   "metadata": {},
   "outputs": [],
   "source": [
    "KAGGLE_IMAGE_DIR = Path(\"/kaggle/input/cct-ds-code-challenge/images/swimming-pool\")\n",
    "IMAGE_DIR = KAGGLE_IMAGE_DIR if is_kaggle else Path(\"../data/images/swimming-pool\")\n",
    "CLASSES = [\"no\", \"yes\"]\n",
    "POSITIVE_CLASS = \"yes\"\n",
    "VALIDATION_PCT = 0.2"
   ]
  },
  {
   "cell_type": "markdown",
   "id": "fae74b52",
   "metadata": {},
   "source": [
    "Set the random seed for reproducibility. The `set_seed` function sets the seed for `numpy`, `random`, and `torch`."
   ]
  },
  {
   "cell_type": "code",
   "execution_count": null,
   "id": "3f3ad28f",
   "metadata": {},
   "outputs": [],
   "source": [
    "set_seed(42, reproducible=True)"
   ]
  },
  {
   "cell_type": "markdown",
   "id": "9b696b40",
   "metadata": {},
   "source": [
    "## Load data"
   ]
  },
  {
   "cell_type": "code",
   "execution_count": null,
   "id": "0ba9ba7d",
   "metadata": {},
   "outputs": [],
   "source": [
    "image_paths = [IMAGE_DIR/f\"{category}/{f}\" for category in CLASSES for f in os.listdir(IMAGE_DIR/category)]"
   ]
  },
  {
   "cell_type": "markdown",
   "id": "8f47328e",
   "metadata": {},
   "source": [
    "Check the file extensions and get value counts:"
   ]
  },
  {
   "cell_type": "code",
   "execution_count": null,
   "id": "4418d25b",
   "metadata": {},
   "outputs": [],
   "source": [
    "# Check the file extensions and get value counts\n",
    "pd.Series([fp.suffix for fp in image_paths]).value_counts()"
   ]
  },
  {
   "cell_type": "markdown",
   "id": "dd48436f",
   "metadata": {},
   "source": [
    "Remove non-TIF files:"
   ]
  },
  {
   "cell_type": "code",
   "execution_count": null,
   "id": "2c962356",
   "metadata": {},
   "outputs": [],
   "source": [
    "# Remove non-TIF files\n",
    "image_paths = [fp for fp in image_paths if fp.suffix.lower() == \".tif\"]\n",
    "print(f\"Number of image files: {len(image_paths)}\")"
   ]
  },
  {
   "cell_type": "markdown",
   "id": "073c69de",
   "metadata": {},
   "source": [
    "Create a function to derive the binary label from an image file path:"
   ]
  },
  {
   "cell_type": "code",
   "execution_count": null,
   "id": "07f0c02d",
   "metadata": {},
   "outputs": [],
   "source": [
    "def get_label(fp: Union[str, Path], positive_class: str) -> str:\n",
    "    \"\"\"Extracts the label from the file path.\"\"\"\n",
    "    label = Path(fp).parts[-2]\n",
    "    return int(label == positive_class)"
   ]
  },
  {
   "cell_type": "code",
   "execution_count": null,
   "id": "9674b22c",
   "metadata": {},
   "outputs": [],
   "source": [
    "# example usage\n",
    "get_label(image_paths[0], POSITIVE_CLASS)"
   ]
  },
  {
   "cell_type": "markdown",
   "id": "f984ed39",
   "metadata": {},
   "source": [
    "Get the labels for each image file and look at the class distribution:"
   ]
  },
  {
   "cell_type": "code",
   "execution_count": null,
   "id": "8c45dbed",
   "metadata": {},
   "outputs": [],
   "source": [
    "labels = [get_label(fp, POSITIVE_CLASS) for fp in image_paths]\n",
    "# Look at class distribution\n",
    "pd.Series(labels).value_counts()"
   ]
  },
  {
   "cell_type": "markdown",
   "id": "08ab65fc",
   "metadata": {},
   "source": [
    "Create training- and validation splits. While there is class imbalance, given that we only have two classes and we have a relatively large sample of images, doing a simple random split should result in similarly balanced training and validation splits."
   ]
  },
  {
   "cell_type": "code",
   "execution_count": null,
   "id": "f7a8f3a5",
   "metadata": {},
   "outputs": [],
   "source": [
    "valid_idx = sorted(random.sample(range(len(image_paths)),\n",
    "                                 k=int(len(image_paths)*VALIDATION_PCT)))\n",
    "train_idx = sorted(list(set(range(len(image_paths))) - set(valid_idx)))\n",
    "train_fps, train_labels = [image_paths[i] for i in train_idx], [labels[i] for i in train_idx]\n",
    "valid_fps, valid_labels = [image_paths[i] for i in valid_idx], [labels[i] for i in valid_idx]\n",
    "print(f\"Training set size:   {len(train_fps)}\")\n",
    "print(f\"Validation set size: {len(valid_fps)}\")\n",
    "print(\"Percentage positive class:\")\n",
    "print(f\"  - Training:   {sum(train_labels) / len(train_labels) * 100:.1f}%\")\n",
    "print(f\"  - Validation: {sum(valid_labels) / len(valid_labels) * 100:.1f}%\")"
   ]
  },
  {
   "cell_type": "markdown",
   "id": "4b23ac0c",
   "metadata": {},
   "source": [
    "Look at some sample images:"
   ]
  },
  {
   "cell_type": "code",
   "execution_count": null,
   "id": "efb2d70d",
   "metadata": {},
   "outputs": [],
   "source": [
    "# Look at some sample images\n",
    "sz = (448, 448)\n",
    "for _ in range(2):\n",
    "    i = random.randint(0, len(image_paths)-1)\n",
    "    print(f\"Path: {image_paths[i]}, Label: {labels[i]}\")\n",
    "    display(Image.open(image_paths[i]).resize(sz))"
   ]
  },
  {
   "cell_type": "markdown",
   "id": "c57eac10",
   "metadata": {},
   "source": [
    "## Create `Dataset`s and `DataLoaders`"
   ]
  },
  {
   "cell_type": "code",
   "execution_count": null,
   "id": "5ff3fadf",
   "metadata": {},
   "outputs": [],
   "source": [
    "ds_trn = TiffImageDataset(paths=train_fps, labels=train_labels)\n",
    "ds_val = TiffImageDataset(paths=valid_fps, labels=valid_labels)"
   ]
  },
  {
   "cell_type": "code",
   "execution_count": null,
   "id": "b199d5c8",
   "metadata": {},
   "outputs": [],
   "source": [
    "dls_trn = DataLoader(ds_trn, batch_size=16, shuffle=True)\n",
    "dls_val = DataLoader(ds_val, batch_size=16, shuffle=False)\n",
    "dls = DataLoaders(dls_trn, dls_val)"
   ]
  },
  {
   "cell_type": "code",
   "execution_count": null,
   "id": "65313000",
   "metadata": {},
   "outputs": [],
   "source": [
    "x, y = dls.one_batch()\n",
    "print(f\"Image tensor shape: {x.shape}\")\n",
    "print(f\"Label tensor shape: {y.shape}\")"
   ]
  },
  {
   "cell_type": "markdown",
   "id": "5888a986",
   "metadata": {},
   "source": [
    "## Setup model"
   ]
  },
  {
   "cell_type": "code",
   "execution_count": null,
   "id": "6b4dff98",
   "metadata": {},
   "outputs": [],
   "source": [
    "model, cfg = create_timm_model(\"convnext_tiny\", n_out=1, pretrained=True)"
   ]
  },
  {
   "cell_type": "code",
   "execution_count": null,
   "id": "0366c94b",
   "metadata": {},
   "outputs": [],
   "source": [
    "with torch.no_grad():\n",
    "    logits = model(x)\n",
    "logits.shape, logits"
   ]
  },
  {
   "cell_type": "code",
   "execution_count": null,
   "id": "fc74cfab",
   "metadata": {},
   "outputs": [],
   "source": [
    "learn = Learner(\n",
    "    dls, model, loss_func=BCEWithLogitsLossFlat(), opt_func=Adam,\n",
    "    metrics=[balanced_accuracy(), ap_score(), precision(), recall(), roc_auc()]\n",
    ")"
   ]
  },
  {
   "cell_type": "code",
   "execution_count": null,
   "id": "9f8f6f3f",
   "metadata": {},
   "outputs": [],
   "source": [
    "learn.summary()"
   ]
  },
  {
   "cell_type": "markdown",
   "id": "41c853a5",
   "metadata": {},
   "source": [
    "## Train"
   ]
  },
  {
   "cell_type": "markdown",
   "id": "abfb72e2",
   "metadata": {},
   "source": [
    "Freeze all model parameters except for the randomly initialised classification head. We will first train the classification head, and then fine-tune all model parameters."
   ]
  },
  {
   "cell_type": "code",
   "execution_count": null,
   "id": "dec65f39",
   "metadata": {},
   "outputs": [],
   "source": [
    "model = freeze_except_head(model)"
   ]
  },
  {
   "cell_type": "markdown",
   "id": "9c06c0aa",
   "metadata": {},
   "source": [
    "Use `fastai`'s learning rate finder to help set a reasonable initial learning rate:"
   ]
  },
  {
   "cell_type": "code",
   "execution_count": null,
   "id": "20036e92",
   "metadata": {},
   "outputs": [],
   "source": [
    "learn.lr_find()"
   ]
  },
  {
   "cell_type": "markdown",
   "id": "400948ad",
   "metadata": {},
   "source": [
    "Train the classification head for one epoch"
   ]
  },
  {
   "cell_type": "code",
   "execution_count": null,
   "id": "719ac7eb",
   "metadata": {},
   "outputs": [],
   "source": [
    "# Train the classification head for one epoch\n",
    "learn.fit_one_cycle(1, 1e-3)"
   ]
  },
  {
   "cell_type": "markdown",
   "id": "9c34815f",
   "metadata": {},
   "source": [
    "Unfreeze all model parameters and fine-tune for a further 3 epochs:"
   ]
  },
  {
   "cell_type": "code",
   "execution_count": null,
   "id": "8df44dd2",
   "metadata": {},
   "outputs": [],
   "source": [
    "model = unfreeze_all(model)\n",
    "learn.fit_one_cycle(3, 1e-4)"
   ]
  },
  {
   "cell_type": "markdown",
   "id": "2dd668fc",
   "metadata": {},
   "source": [
    "Save the model weights for further evaluation and inference:"
   ]
  },
  {
   "cell_type": "code",
   "execution_count": null,
   "id": "411d90ba",
   "metadata": {},
   "outputs": [],
   "source": [
    "os.makedirs(\"./models\", exist_ok=True)\n",
    "torch.save(learn.model.state_dict(), \"./models/classification_model_v0.pth\")"
   ]
  }
 ],
 "metadata": {
  "kernelspec": {
   "display_name": "ds_code_challenge (3.12.11)",
   "language": "python",
   "name": "python3"
  },
  "language_info": {
   "codemirror_mode": {
    "name": "ipython",
    "version": 3
   },
   "file_extension": ".py",
   "mimetype": "text/x-python",
   "name": "python",
   "nbconvert_exporter": "python",
   "pygments_lexer": "ipython3",
   "version": "3.12.11"
  }
 },
 "nbformat": 4,
 "nbformat_minor": 5
}
